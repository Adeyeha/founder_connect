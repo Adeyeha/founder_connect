{
 "cells": [
  {
   "cell_type": "code",
   "execution_count": null,
   "metadata": {},
   "outputs": [],
   "source": [
    "from DataObj import Investor,Startup,dynamic_filter\n",
    "\n",
    "# Example:\n",
    "# Define a list of investors and startups\n",
    "investors = [Investor(\"Investor1\", [\"Fintech\", \"Edutainment\"], [\"USA\"], 10000, 50000, [\"Marketing spend\"])]\n",
    "startups = [Startup(\"Startup1\", \"Fintech\", \"USA\", 30000, [\"Marketing spend\"])]\n",
    "\n",
    "# Set filter criteria: Here, as an example, let's only match investors and startups that have a focus on \"Marketing spend\"\n",
    "filter_criteria = [lambda match: \"Marketing spend\" in match[0].business_priority and \"Marketing spend\" in match[1].business_priority]\n",
    "\n",
    "matches = dynamic_filter(investors, startups, filter_criteria)\n",
    "print(matches)  # This should print matched investor and startup pairs based on the criteria."
   ]
  },
  {
   "cell_type": "code",
   "execution_count": 3,
   "metadata": {},
   "outputs": [
    {
     "name": "stdout",
     "output_type": "stream",
     "text": [
      "[{'startup_company': 'Startup0 Inc.', 'startup_website': 'https://startup0.com', 'startup_stage': 'MVP', 'startup_industries': ['Fintech', 'Edutainment'], 'startup_countries': 'Nigeria', 'startup_age': 3, 'mission': 'Mission statement of Startup0...', 'long_term_goals': 'Long term goals of Startup0...', 'current_capital': 43160.53491328307, 'current_investment': 47008.82321468372, 'investment_needed': 29187.881149485285, 'business_priorities': ['Marketing Spend', 'Product Development'], 'founder_name': 'Founder0 Name', 'founder_positions': ['CSO (Chief Strategy Officer)', 'CEO'], 'founder_gender': 'Female', 'team_size': 35, 'key_team_expertise': ['Marketing', 'Strategy'], 'product_description': 'Product description of Startup0...', 'business_models': ['Subscription', 'B2B'], 'product_stages': 'Prototype', 'monthly_users': 706510, 'investor_attributes': ['Large Market Size'], 'investment_round': 'Series B', 'investor_expertise': ['R&D', 'Finance', 'Product Management'], 'engagement_lengths': ['Short-term (Less than 1 year)'], 'engagement_models': ['Hands-on'], 'revenue_models': ['Direct to Consumer', 'B2G (Business to Government)'], 'revenue': 75130.70524343968, 'profit_margin': 0.21578190439894646, 'churn_rate': 13.185039617437882, 'intellectual_properties': ['Patents'], 'competitive_advantage': 'Competitive advantage of Startup0...', 'current_challenges': 'Current challenges of Startup0...'}, {'startup_company': 'Startup1 Inc.', 'startup_website': 'https://startup1.com', 'startup_stage': 'Idea', 'startup_industries': ['Agritech', 'Real Estate'], 'startup_countries': 'UK', 'startup_age': 5, 'mission': 'Mission statement of Startup1...', 'long_term_goals': 'Long term goals of Startup1...', 'current_capital': 31654.901123056054, 'current_investment': 31402.168621555185, 'investment_needed': 35332.89421150711, 'business_priorities': ['Product Development'], 'founder_name': 'Founder1 Name', 'founder_positions': ['Chief Design Officer', 'Chief Product Officer'], 'founder_gender': 'Male', 'team_size': 18, 'key_team_expertise': ['Finance', 'HR', 'Tech'], 'product_description': 'Product description of Startup1...', 'business_models': ['B2C', 'B2B'], 'product_stages': 'Idea', 'monthly_users': 291731, 'investor_attributes': ['Great Team', 'Brand Recognition', 'Positive Unit Economics'], 'investment_round': 'Series B', 'investor_expertise': ['Sales'], 'engagement_lengths': ['Long-term (More than 3 years)'], 'engagement_models': ['Mentorship', 'Hands-on'], 'revenue_models': ['Marketplace'], 'revenue': 1286.5411054225228, 'profit_margin': 0.2338515955171751, 'churn_rate': 19.33734893613681, 'intellectual_properties': ['Trademarks'], 'competitive_advantage': 'Competitive advantage of Startup1...', 'current_challenges': 'Current challenges of Startup1...'}, {'startup_company': 'Startup2 Inc.', 'startup_website': 'https://startup2.com', 'startup_stage': 'MVP', 'startup_industries': ['AI & ML', 'Healthtech'], 'startup_countries': 'Kenya', 'startup_age': 8, 'mission': 'Mission statement of Startup2...', 'long_term_goals': 'Long term goals of Startup2...', 'current_capital': 14084.51162467784, 'current_investment': 11652.754250820397, 'investment_needed': 12354.104604905162, 'business_priorities': ['Marketing Spend'], 'founder_name': 'Founder2 Name', 'founder_positions': ['CEO'], 'founder_gender': 'Male', 'team_size': 17, 'key_team_expertise': ['R&D', 'Strategy', 'Legal'], 'product_description': 'Product description of Startup2...', 'business_models': ['E-commerce', 'SaaS'], 'product_stages': 'Scaling', 'monthly_users': 492916, 'investor_attributes': ['Patented Technology', 'Positive Unit Economics', 'Scalable Model'], 'investment_round': 'Seed', 'investor_expertise': ['Legal'], 'engagement_lengths': ['Short-term (Less than 1 year)'], 'engagement_models': ['Strategic Partnership', 'Silent'], 'revenue_models': ['Affiliate', 'Marketplace'], 'revenue': 8205.484560195164, 'profit_margin': 0.1396333004748464, 'churn_rate': 22.21861821198882, 'intellectual_properties': ['Trade Secrets'], 'competitive_advantage': 'Competitive advantage of Startup2...', 'current_challenges': 'Current challenges of Startup2...'}, {'startup_company': 'Startup3 Inc.', 'startup_website': 'https://startup3.com', 'startup_stage': 'Idea', 'startup_industries': ['Agritech'], 'startup_countries': 'Nigeria', 'startup_age': 3, 'mission': 'Mission statement of Startup3...', 'long_term_goals': 'Long term goals of Startup3...', 'current_capital': 22295.83293591984, 'current_investment': 48827.81270080458, 'investment_needed': 35890.8775706982, 'business_priorities': ['Hiring Talent'], 'founder_name': 'Founder3 Name', 'founder_positions': ['CEO', 'CFO'], 'founder_gender': 'Female', 'team_size': 40, 'key_team_expertise': ['Legal', 'Strategy', 'Operations'], 'product_description': 'Product description of Startup3...', 'business_models': ['B2C', 'B2B'], 'product_stages': 'Prototype', 'monthly_users': 399456, 'investor_attributes': ['Recurring Revenue', 'Brand Recognition', 'Prototype'], 'investment_round': 'Mezzanine', 'investor_expertise': ['Tech'], 'engagement_lengths': ['Long-term (More than 3 years)'], 'engagement_models': ['Hands-on', 'Strategic Partnership'], 'revenue_models': ['B2G (Business to Government)'], 'revenue': 20079.947399353383, 'profit_margin': 0.25650199192645823, 'churn_rate': 14.378412557294526, 'intellectual_properties': ['Trademarks'], 'competitive_advantage': 'Competitive advantage of Startup3...', 'current_challenges': 'Current challenges of Startup3...'}, {'startup_company': 'Startup4 Inc.', 'startup_website': 'https://startup4.com', 'startup_stage': 'Scaling', 'startup_industries': ['Transportation', 'E-commerce'], 'startup_countries': 'Ghana', 'startup_age': 3, 'mission': 'Mission statement of Startup4...', 'long_term_goals': 'Long term goals of Startup4...', 'current_capital': 44304.75999866968, 'current_investment': 28788.38355134832, 'investment_needed': 17325.307308203977, 'business_priorities': ['Geographic Expansion'], 'founder_name': 'Founder4 Name', 'founder_positions': ['CIO'], 'founder_gender': 'Female', 'team_size': 42, 'key_team_expertise': ['R&D', 'Product Management', 'Strategy'], 'product_description': 'Product description of Startup4...', 'business_models': ['Subscription'], 'product_stages': 'Scaling', 'monthly_users': 437700, 'investor_attributes': ['Revenue Growth', 'Scalable Model', 'Brand Recognition'], 'investment_round': 'Mezzanine', 'investor_expertise': ['Sales'], 'engagement_lengths': ['Short-term (Less than 1 year)'], 'engagement_models': ['Silent'], 'revenue_models': ['Affiliate'], 'revenue': 28476.554008018386, 'profit_margin': 0.21317698688864534, 'churn_rate': 8.4835213314967, 'intellectual_properties': ['Trademarks', 'Copyrights'], 'competitive_advantage': 'Competitive advantage of Startup4...', 'current_challenges': 'Current challenges of Startup4...'}, {'startup_company': 'Startup5 Inc.', 'startup_website': 'https://startup5.com', 'startup_stage': 'MVP', 'startup_industries': ['Education', 'GreenTech/Environment'], 'startup_countries': 'UK', 'startup_age': 7, 'mission': 'Mission statement of Startup5...', 'long_term_goals': 'Long term goals of Startup5...', 'current_capital': 20978.91970682702, 'current_investment': 42582.00310570438, 'investment_needed': 10842.899870912483, 'business_priorities': ['Customer Acquisition', 'Hiring Talent'], 'founder_name': 'Founder5 Name', 'founder_positions': ['CFO', 'CDO'], 'founder_gender': 'Female', 'team_size': 40, 'key_team_expertise': ['Finance', 'R&D'], 'product_description': 'Product description of Startup5...', 'business_models': ['Marketplace', 'E-commerce'], 'product_stages': 'Profitable', 'monthly_users': 864591, 'investor_attributes': ['Great Team', 'Large Market Size', 'Revenue Growth'], 'investment_round': 'Series B', 'investor_expertise': ['Operations'], 'engagement_lengths': ['Medium-term (1-3 years)'], 'engagement_models': ['Advisory'], 'revenue_models': ['Subscription'], 'revenue': 55164.69029547357, 'profit_margin': 0.24344071628548386, 'churn_rate': 9.0620051598003, 'intellectual_properties': ['Licensing Agreements', 'Trademarks'], 'competitive_advantage': 'Competitive advantage of Startup5...', 'current_challenges': 'Current challenges of Startup5...'}, {'startup_company': 'Startup6 Inc.', 'startup_website': 'https://startup6.com', 'startup_stage': 'Mature', 'startup_industries': ['Fintech', 'AI & ML'], 'startup_countries': 'UK', 'startup_age': 3, 'mission': 'Mission statement of Startup6...', 'long_term_goals': 'Long term goals of Startup6...', 'current_capital': 44710.623468732665, 'current_investment': 29343.670209565847, 'investment_needed': 23424.43161609005, 'business_priorities': ['Technology Enhancement', 'Customer Acquisition'], 'founder_name': 'Founder6 Name', 'founder_positions': ['CIO'], 'founder_gender': 'Male', 'team_size': 29, 'key_team_expertise': ['HR'], 'product_description': 'Product description of Startup6...', 'business_models': ['B2C', 'Subscription'], 'product_stages': 'MVP', 'monthly_users': 475110, 'investor_attributes': ['Great Team'], 'investment_round': 'Series A', 'investor_expertise': ['Sales', 'Operations', 'Product Management'], 'engagement_lengths': ['Short-term (Less than 1 year)'], 'engagement_models': ['Hands-on', 'Advisory'], 'revenue_models': ['B2B', 'SaaS'], 'revenue': 52336.33261920988, 'profit_margin': 0.23076375997043885, 'churn_rate': 22.775275780445643, 'intellectual_properties': ['Design Rights'], 'competitive_advantage': 'Competitive advantage of Startup6...', 'current_challenges': 'Current challenges of Startup6...'}, {'startup_company': 'Startup7 Inc.', 'startup_website': 'https://startup7.com', 'startup_stage': 'Scaling', 'startup_industries': ['E-sports'], 'startup_countries': 'USA', 'startup_age': 3, 'mission': 'Mission statement of Startup7...', 'long_term_goals': 'Long term goals of Startup7...', 'current_capital': 40465.08855989277, 'current_investment': 34962.42894892534, 'investment_needed': 19981.419739979763, 'business_priorities': ['Prototype Development'], 'founder_name': 'Founder7 Name', 'founder_positions': ['CDO'], 'founder_gender': 'Male', 'team_size': 27, 'key_team_expertise': ['Sales', 'Operations'], 'product_description': 'Product description of Startup7...', 'business_models': ['SaaS'], 'product_stages': 'Scaling', 'monthly_users': 231290, 'investor_attributes': ['Great Team', 'Patented Technology'], 'investment_round': 'Bridge Round', 'investor_expertise': ['Operations', 'Marketing'], 'engagement_lengths': ['Short-term (Less than 1 year)'], 'engagement_models': ['Strategic Partnership'], 'revenue_models': ['Marketplace', 'B2G (Business to Government)'], 'revenue': 38770.75283682, 'profit_margin': 0.2742391074341325, 'churn_rate': 20.968512065878603, 'intellectual_properties': ['Patents'], 'competitive_advantage': 'Competitive advantage of Startup7...', 'current_challenges': 'Current challenges of Startup7...'}, {'startup_company': 'Startup8 Inc.', 'startup_website': 'https://startup8.com', 'startup_stage': 'Mature', 'startup_industries': ['Insuretech', 'Foodtech'], 'startup_countries': 'UK', 'startup_age': 8, 'mission': 'Mission statement of Startup8...', 'long_term_goals': 'Long term goals of Startup8...', 'current_capital': 11386.901451450794, 'current_investment': 44044.33898399349, 'investment_needed': 45443.535145208676, 'business_priorities': ['Marketing Spend', 'Prototype Development'], 'founder_name': 'Founder8 Name', 'founder_positions': ['CTO', 'COO'], 'founder_gender': 'Male', 'team_size': 21, 'key_team_expertise': ['Product Management'], 'product_description': 'Product description of Startup8...', 'business_models': ['E-commerce'], 'product_stages': 'Scaling', 'monthly_users': 411305, 'investor_attributes': ['Large Market Size'], 'investment_round': 'Mezzanine', 'investor_expertise': ['Product Management'], 'engagement_lengths': ['Long-term (More than 3 years)'], 'engagement_models': ['Hands-on', 'Mentorship'], 'revenue_models': ['Subscription', 'B2B'], 'revenue': 141.13760465167547, 'profit_margin': 0.058989570807803135, 'churn_rate': 7.116455011046492, 'intellectual_properties': ['Design Rights', 'Copyrights'], 'competitive_advantage': 'Competitive advantage of Startup8...', 'current_challenges': 'Current challenges of Startup8...'}, {'startup_company': 'Startup9 Inc.', 'startup_website': 'https://startup9.com', 'startup_stage': 'MVP', 'startup_industries': ['Transportation'], 'startup_countries': 'USA', 'startup_age': 4, 'mission': 'Mission statement of Startup9...', 'long_term_goals': 'Long term goals of Startup9...', 'current_capital': 30366.691125525795, 'current_investment': 25962.1720119491, 'investment_needed': 18906.4085116512, 'business_priorities': ['Prototype Development'], 'founder_name': 'Founder9 Name', 'founder_positions': ['CSO (Chief Strategy Officer)', 'COO'], 'founder_gender': 'Female', 'team_size': 24, 'key_team_expertise': ['Finance'], 'product_description': 'Product description of Startup9...', 'business_models': ['B2C'], 'product_stages': 'Prototype', 'monthly_users': 57621, 'investor_attributes': ['Initial Customers'], 'investment_round': 'Series C', 'investor_expertise': ['Tech', 'Operations'], 'engagement_lengths': ['Short-term (Less than 1 year)'], 'engagement_models': ['Strategic Partnership'], 'revenue_models': ['E-commerce', 'Affiliate'], 'revenue': 59032.034243384645, 'profit_margin': 0.2458534841720127, 'churn_rate': 13.893358130730105, 'intellectual_properties': ['Patents'], 'competitive_advantage': 'Competitive advantage of Startup9...', 'current_challenges': 'Current challenges of Startup9...'}, {'startup_company': 'Startup10 Inc.', 'startup_website': 'https://startup10.com', 'startup_stage': 'Mature', 'startup_industries': ['E-sports', 'Transportation'], 'startup_countries': 'Nigeria', 'startup_age': 3, 'mission': 'Mission statement of Startup10...', 'long_term_goals': 'Long term goals of Startup10...', 'current_capital': 48246.6688667853, 'current_investment': 29283.716526509015, 'investment_needed': 11850.978395372507, 'business_priorities': ['Customer Acquisition'], 'founder_name': 'Founder10 Name', 'founder_positions': ['CIO', 'CDO'], 'founder_gender': 'Female', 'team_size': 40, 'key_team_expertise': ['Product Management', 'Strategy'], 'product_description': 'Product description of Startup10...', 'business_models': ['SaaS'], 'product_stages': 'Profitable', 'monthly_users': 755558, 'investor_attributes': ['Scalable Model', 'Patented Technology', 'Revenue Growth'], 'investment_round': 'Series C', 'investor_expertise': ['Legal', 'Product Management'], 'engagement_lengths': ['Short-term (Less than 1 year)'], 'engagement_models': ['Silent'], 'revenue_models': ['Affiliate', 'Marketplace'], 'revenue': 48203.71401989706, 'profit_margin': 0.1186798912806457, 'churn_rate': 19.797755110855245, 'intellectual_properties': ['Trade Secrets', 'Patents'], 'competitive_advantage': 'Competitive advantage of Startup10...', 'current_challenges': 'Current challenges of Startup10...'}, {'startup_company': 'Startup11 Inc.', 'startup_website': 'https://startup11.com', 'startup_stage': 'Scaling', 'startup_industries': ['Immersive Entertainment and Technology', 'Edutainment'], 'startup_countries': 'South Africa', 'startup_age': 6, 'mission': 'Mission statement of Startup11...', 'long_term_goals': 'Long term goals of Startup11...', 'current_capital': 49631.31303331477, 'current_investment': 13339.696497796122, 'investment_needed': 33894.50490142149, 'business_priorities': ['Prototype Development'], 'founder_name': 'Founder11 Name', 'founder_positions': ['CMO', 'COO'], 'founder_gender': 'Female', 'team_size': 21, 'key_team_expertise': ['Finance', 'Operations', 'Legal'], 'product_description': 'Product description of Startup11...', 'business_models': ['Subscription'], 'product_stages': 'Post-Revenue', 'monthly_users': 556661, 'investor_attributes': ['Scalable Model', 'Positive Unit Economics'], 'investment_round': 'Seed', 'investor_expertise': ['R&D'], 'engagement_lengths': ['Short-term (Less than 1 year)'], 'engagement_models': ['Mentorship', 'Hands-on'], 'revenue_models': ['Affiliate', 'B2G (Business to Government)'], 'revenue': 32257.28074300328, 'profit_margin': 0.2166026457609629, 'churn_rate': 15.856800255922796, 'intellectual_properties': ['Trademarks'], 'competitive_advantage': 'Competitive advantage of Startup11...', 'current_challenges': 'Current challenges of Startup11...'}, {'startup_company': 'Startup12 Inc.', 'startup_website': 'https://startup12.com', 'startup_stage': 'MVP', 'startup_industries': ['Foodtech', 'Fintech'], 'startup_countries': 'Kenya', 'startup_age': 3, 'mission': 'Mission statement of Startup12...', 'long_term_goals': 'Long term goals of Startup12...', 'current_capital': 49681.054499853206, 'current_investment': 17233.46641131873, 'investment_needed': 20237.909423852783, 'business_priorities': ['Geographic Expansion'], 'founder_name': 'Founder12 Name', 'founder_positions': ['CFO'], 'founder_gender': 'Female', 'team_size': 17, 'key_team_expertise': ['Sales', 'Marketing'], 'product_description': 'Product description of Startup12...', 'business_models': ['B2G (Business to Government)'], 'product_stages': 'Post-Revenue', 'monthly_users': 137209, 'investor_attributes': ['Prototype', 'Initial Customers', 'Brand Recognition'], 'investment_round': 'Mezzanine', 'investor_expertise': ['Product Management', 'Tech', 'Legal'], 'engagement_lengths': ['Medium-term (1-3 years)'], 'engagement_models': ['Advisory', 'Silent'], 'revenue_models': ['Affiliate'], 'revenue': 63231.47790142128, 'profit_margin': 0.08254760462875095, 'churn_rate': 14.547531987346291, 'intellectual_properties': ['Trademarks', 'Copyrights'], 'competitive_advantage': 'Competitive advantage of Startup12...', 'current_challenges': 'Current challenges of Startup12...'}, {'startup_company': 'Startup13 Inc.', 'startup_website': 'https://startup13.com', 'startup_stage': 'Scaling', 'startup_industries': ['Healthtech', 'E-sports'], 'startup_countries': 'Nigeria', 'startup_age': 6, 'mission': 'Mission statement of Startup13...', 'long_term_goals': 'Long term goals of Startup13...', 'current_capital': 27735.942177630335, 'current_investment': 23189.987255356617, 'investment_needed': 23947.548351626665, 'business_priorities': ['Prototype Development', 'Marketing Spend'], 'founder_name': 'Founder13 Name', 'founder_positions': ['Chief Product Officer', 'CIO'], 'founder_gender': 'Male', 'team_size': 13, 'key_team_expertise': ['Operations'], 'product_description': 'Product description of Startup13...', 'business_models': ['Direct to Consumer'], 'product_stages': 'Idea', 'monthly_users': 198880, 'investor_attributes': ['Initial Customers', 'Recurring Revenue'], 'investment_round': 'Series C', 'investor_expertise': ['Sales', 'HR'], 'engagement_lengths': ['Long-term (More than 3 years)'], 'engagement_models': ['Mentorship', 'Strategic Partnership'], 'revenue_models': ['B2C', 'Direct to Consumer'], 'revenue': 50310.20035277442, 'profit_margin': 0.08785347054226901, 'churn_rate': 20.19558926857726, 'intellectual_properties': ['Patents', 'Trade Secrets'], 'competitive_advantage': 'Competitive advantage of Startup13...', 'current_challenges': 'Current challenges of Startup13...'}]\n"
     ]
    }
   ],
   "source": [
    "# Generating the rest of the 14 dummy startup data entries\n",
    "import random\n",
    "\n",
    "# Startup options\n",
    "STARTUP_STAGES = [\"Idea\", \"Prototype\", \"MVP\", \"Product-Market Fit\", \"Growth\", \"Scaling\", \"Mature\"]\n",
    "INDUSTRIES = [\"Insuretech\", \"Fintech\", \"Transportation\", \"Immersive Entertainment and Technology\", \"Edutainment\", \"Healthtech\", \"Agritech\", \"Real Estate\", \"E-commerce\", \"Education\", \"GreenTech/Environment\", \"AI & ML\", \"E-sports\", \"Biotech\", \"Foodtech\"]\n",
    "COUNTRIES = [\"Nigeria\", \"Ghana\", \"Kenya\", \"South Africa\", \"USA\", \"UK\"]\n",
    "BUSINESS_PRIORITIES = [\"Customer Acquisition\", \"Prototype Development\", \"Marketing Spend\", \"Product Development\", \"Geographic Expansion\", \"Technology Enhancement\", \"Hiring Talent\"]\n",
    "FOUNDER_POSITIONS = [\"CEO\", \"COO\", \"CDO\", \"CIO\", \"CMO\", \"CFO\", \"CTO\", \"CSO (Chief Strategy Officer)\", \"Chief Product Officer\", \"Chief Design Officer\"]\n",
    "GENDERS = [\"Male\", \"Female\"]\n",
    "KEY_TEAM_EXPERTISE = [\"Tech\", \"Finance\", \"Marketing\", \"Strategy\", \"Legal\", \"Operations\", \"Sales\", \"HR\", \"Product Management\", \"R&D\"]\n",
    "BUSINESS_MODELS = [\"B2B\", \"B2C\", \"SaaS\", \"Marketplace\", \"Subscription\", \"E-commerce\", \"B2G (Business to Government)\", \"Direct to Consumer\", \"Affiliate\"]\n",
    "PRODUCT_STAGES = [\"Idea\", \"Prototype\", \"MVP\", \"Scaling\", \"Profitable\", \"Post-Revenue\"]\n",
    "INVESTOR_EXPERTISE = [\"Tech\", \"Finance\", \"Marketing\", \"Strategy\", \"Legal\", \"Operations\", \"Sales\", \"HR\", \"Product Management\", \"R&D\"]\n",
    "ENGAGEMENT_LENGTHS = [\"Short-term (Less than 1 year)\", \"Medium-term (1-3 years)\", \"Long-term (More than 3 years)\"]\n",
    "ENGAGEMENT_MODELS = [\"Hands-on\", \"Advisory\", \"Silent\", \"Mentorship\", \"Strategic Partnership\"]\n",
    "REVENUE_MODELS = [\"B2B\", \"B2C\", \"SaaS\", \"Marketplace\", \"Subscription\", \"E-commerce\", \"B2G (Business to Government)\", \"Direct to Consumer\", \"Affiliate\"]\n",
    "INTELLECTUAL_PROPERTY = [\"Patents\", \"Trademarks\", \"Copyrights\", \"Trade Secrets\", \"Design Rights\", \"Licensing Agreements\"]\n",
    "INVESTOR_TYPES = [\"Angel Investor\", \"VC Fund\", \"Family Office\", \"Growth / PE Fund\", \"Corporate Venture\", \"Syndicate\", \"Government Fund\", \"Crowdfunding\"]\n",
    "PREFERRED_ATTRIBUTES = [\"Prototype\", \"Initial Customers\", \"Revenue Growth\", \"Great Team\", \"Patented Technology\", \"Scalable Model\", \"Recurring Revenue\", \"Positive Unit Economics\", \"Large Market Size\", \"Brand Recognition\"]\n",
    "BUSINESS_PRIORITIES = [\"Customer Acquisition\", \"Prototype Development\", \"Marketing Spend\", \"Product Development\", \"Geographic Expansion\", \"Technology Enhancement\", \"Hiring Talent\"]\n",
    "INVESTMENT_ROUNDS = [\"Preseed\", \"Seed\", \"Series A\", \"Series B\", \"Series C\", \"Bridge Round\", \"Mezzanine\"]\n",
    "\n",
    "# Function to generate a random sample from a list\n",
    "def random_sample(lst, max_len):\n",
    "    return random.sample(lst, k=random.randint(1, min(max_len, len(lst))))\n",
    "\n",
    "# Generating the dummy data\n",
    "dummy_startup_data = []\n",
    "for i in range(14):\n",
    "    startup_data = {\n",
    "        'startup_company': f'Startup{i} Inc.',\n",
    "        'startup_website': f'https://startup{i}.com',\n",
    "        'startup_stage': random.choice(STARTUP_STAGES),\n",
    "        'startup_industries': random_sample(INDUSTRIES, 2),\n",
    "        'startup_countries': random.choice(COUNTRIES),\n",
    "        'startup_age': random.randint(1, 10),\n",
    "        'mission': f'Mission statement of Startup{i}...',\n",
    "        'long_term_goals': f'Long term goals of Startup{i}...',\n",
    "        'current_capital': random.uniform(10000, 50000),\n",
    "        'current_investment': random.uniform(10000, 50000),\n",
    "        'investment_needed': random.uniform(10000, 50000),\n",
    "        'business_priorities': random_sample(BUSINESS_PRIORITIES, 2),\n",
    "        'founder_name': f'Founder{i} Name',\n",
    "        'founder_positions': random_sample(FOUNDER_POSITIONS, 2),\n",
    "        'founder_gender': random.choice(GENDERS),\n",
    "        'team_size': random.randint(5, 50),\n",
    "        'key_team_expertise': random_sample(KEY_TEAM_EXPERTISE, 3),\n",
    "        'product_description': f'Product description of Startup{i}...',\n",
    "        'business_models': random_sample(BUSINESS_MODELS, 2),\n",
    "        'product_stages': random.choice(PRODUCT_STAGES),\n",
    "        'monthly_users': random.randint(1000, 1000000),\n",
    "        'investor_attributes': random_sample(PREFERRED_ATTRIBUTES, 3),\n",
    "        'investment_round': random.choice(INVESTMENT_ROUNDS),\n",
    "        'investor_expertise': random_sample(INVESTOR_EXPERTISE, 3),\n",
    "        'engagement_lengths': random_sample(ENGAGEMENT_LENGTHS, 1),\n",
    "        'engagement_models': random_sample(ENGAGEMENT_MODELS, 2),\n",
    "        'revenue_models': random_sample(REVENUE_MODELS, 2),\n",
    "        'revenue': random.uniform(0, 100000),\n",
    "        'profit_margin': random.uniform(0.05, 0.3),\n",
    "        'churn_rate': random.uniform(5, 25),\n",
    "        'intellectual_properties': random_sample(INTELLECTUAL_PROPERTY, 2),\n",
    "        'competitive_advantage': f'Competitive advantage of Startup{i}...',\n",
    "        'current_challenges': f'Current challenges of Startup{i}...'\n",
    "    }\n",
    "    dummy_startup_data.append(startup_data)\n",
    "\n",
    "print(dummy_startup_data)\n"
   ]
  },
  {
   "cell_type": "code",
   "execution_count": 4,
   "metadata": {},
   "outputs": [
    {
     "name": "stdout",
     "output_type": "stream",
     "text": [
      "[{'investment_company': 'Investment Company 1', 'investor_type': ['Family Office', 'Growth / PE Fund'], 'investor_description': 'Investing in early-stage startups in the Fintech sector.', 'investor_expertise': ['Strategy', 'Sales', 'R&D'], 'preferred_attributes': ['Brand Recognition'], 'preferred_business_priority': ['Product Development', 'Hiring Talent'], 'preferred_founder_gender': ['Female'], 'preferred_investment_round': ['Mezzanine', 'Seed', 'Series A'], 'preferred_industry': ['Foodtech', 'Fintech', 'Transportation'], 'preferred_country': ['Ghana', 'South Africa', 'Kenya'], 'min_investment': 445225.3, 'max_investment': 1732715.42, 'past_investments': 7174439.51, 'successful_exits': 1, 'preferred_startup_age_min': 2, 'preferred_startup_age_max': 6, 'preferred_business_model': ['SaaS', 'B2C'], 'preferred_business_stage': ['MVP', 'Scaling'], 'preferred_engagement_length': ['Medium-term (1-3 years)'], 'preferred_engagement_model': ['Silent'], 'preferred_team_size_min': 4, 'preferred_team_size_max': 40}, {'investment_company': 'Investment Company 2', 'investor_type': ['Angel Investor', 'VC Fund'], 'investor_description': 'Investing in early-stage startups in the Immersive Entertainment and Technology sector.', 'investor_expertise': ['Product Management', 'Finance'], 'preferred_attributes': ['Great Team', 'Patented Technology'], 'preferred_business_priority': ['Geographic Expansion', 'Prototype Development', 'Customer Acquisition'], 'preferred_founder_gender': ['Female'], 'preferred_investment_round': ['Bridge Round', 'Mezzanine', 'Seed'], 'preferred_industry': ['E-sports', 'Edutainment'], 'preferred_country': ['UK', 'Kenya'], 'min_investment': 244163.61, 'max_investment': 1474054.52, 'past_investments': 5886317.18, 'successful_exits': 9, 'preferred_startup_age_min': 1, 'preferred_startup_age_max': 8, 'preferred_business_model': ['B2G (Business to Government)', 'E-commerce', 'Direct to Consumer'], 'preferred_business_stage': ['MVP', 'Prototype', 'Profitable'], 'preferred_engagement_length': ['Medium-term (1-3 years)'], 'preferred_engagement_model': ['Strategic Partnership', 'Hands-on'], 'preferred_team_size_min': 1, 'preferred_team_size_max': 16}, {'investment_company': 'Investment Company 3', 'investor_type': ['VC Fund', 'Syndicate'], 'investor_description': 'Investing in early-stage startups in the Transportation sector.', 'investor_expertise': ['R&D', 'Product Management'], 'preferred_attributes': ['Great Team'], 'preferred_business_priority': ['Geographic Expansion'], 'preferred_founder_gender': ['Female', 'Male'], 'preferred_investment_round': ['Mezzanine', 'Series A'], 'preferred_industry': ['Edutainment', 'Agritech', 'AI & ML'], 'preferred_country': ['Ghana'], 'min_investment': 378841.64, 'max_investment': 1312495.24, 'past_investments': 9685789.04, 'successful_exits': 6, 'preferred_startup_age_min': 4, 'preferred_startup_age_max': 10, 'preferred_business_model': ['B2G (Business to Government)', 'E-commerce'], 'preferred_business_stage': ['Idea', 'MVP', 'Post-Revenue'], 'preferred_engagement_length': ['Long-term (More than 3 years)'], 'preferred_engagement_model': ['Hands-on'], 'preferred_team_size_min': 1, 'preferred_team_size_max': 29}, {'investment_company': 'Investment Company 4', 'investor_type': ['Government Fund', 'Angel Investor'], 'investor_description': 'Investing in early-stage startups in the Agritech sector.', 'investor_expertise': ['Operations', 'Sales', 'Legal'], 'preferred_attributes': ['Recurring Revenue'], 'preferred_business_priority': ['Hiring Talent', 'Geographic Expansion', 'Marketing Spend'], 'preferred_founder_gender': ['Male', 'Female'], 'preferred_investment_round': ['Series A', 'Series B'], 'preferred_industry': ['Immersive Entertainment and Technology', 'Real Estate', 'Foodtech'], 'preferred_country': ['Kenya'], 'min_investment': 80777.96, 'max_investment': 633651.23, 'past_investments': 4966947.84, 'successful_exits': 5, 'preferred_startup_age_min': 5, 'preferred_startup_age_max': 5, 'preferred_business_model': ['B2C'], 'preferred_business_stage': ['Prototype'], 'preferred_engagement_length': ['Medium-term (1-3 years)'], 'preferred_engagement_model': ['Advisory'], 'preferred_team_size_min': 10, 'preferred_team_size_max': 31}, {'investment_company': 'Investment Company 5', 'investor_type': ['Corporate Venture'], 'investor_description': 'Investing in early-stage startups in the Real Estate sector.', 'investor_expertise': ['HR', 'Finance', 'R&D'], 'preferred_attributes': ['Brand Recognition', 'Patented Technology', 'Revenue Growth'], 'preferred_business_priority': ['Hiring Talent', 'Geographic Expansion'], 'preferred_founder_gender': ['Male', 'Female'], 'preferred_investment_round': ['Series B', 'Series C', 'Series A'], 'preferred_industry': ['AI & ML', 'Education'], 'preferred_country': ['South Africa', 'UK'], 'min_investment': 51410.35, 'max_investment': 613240.33, 'past_investments': 5296029.02, 'successful_exits': 1, 'preferred_startup_age_min': 5, 'preferred_startup_age_max': 6, 'preferred_business_model': ['Marketplace'], 'preferred_business_stage': ['Post-Revenue', 'Profitable'], 'preferred_engagement_length': ['Long-term (More than 3 years)'], 'preferred_engagement_model': ['Hands-on'], 'preferred_team_size_min': 1, 'preferred_team_size_max': 20}, {'investment_company': 'Investment Company 6', 'investor_type': ['Growth / PE Fund', 'VC Fund', 'Government Fund'], 'investor_description': 'Investing in early-stage startups in the Healthtech sector.', 'investor_expertise': ['Tech'], 'preferred_attributes': ['Brand Recognition', 'Large Market Size'], 'preferred_business_priority': ['Geographic Expansion'], 'preferred_founder_gender': ['Female'], 'preferred_investment_round': ['Series B', 'Bridge Round'], 'preferred_industry': ['Real Estate'], 'preferred_country': ['Nigeria', 'Kenya'], 'min_investment': 413361.86, 'max_investment': 824603.79, 'past_investments': 8550859.31, 'successful_exits': 0, 'preferred_startup_age_min': 0, 'preferred_startup_age_max': 6, 'preferred_business_model': ['B2G (Business to Government)'], 'preferred_business_stage': ['Post-Revenue'], 'preferred_engagement_length': ['Long-term (More than 3 years)'], 'preferred_engagement_model': ['Advisory', 'Hands-on'], 'preferred_team_size_min': 7, 'preferred_team_size_max': 15}, {'investment_company': 'Investment Company 7', 'investor_type': ['Corporate Venture', 'Growth / PE Fund', 'Angel Investor'], 'investor_description': 'Investing in early-stage startups in the Edutainment sector.', 'investor_expertise': ['Finance', 'Strategy', 'R&D'], 'preferred_attributes': ['Initial Customers', 'Patented Technology'], 'preferred_business_priority': ['Product Development', 'Geographic Expansion'], 'preferred_founder_gender': ['Male', 'Female'], 'preferred_investment_round': ['Seed'], 'preferred_industry': ['Healthtech', 'GreenTech/Environment', 'Agritech'], 'preferred_country': ['UK'], 'min_investment': 445541.37, 'max_investment': 902048.66, 'past_investments': 8265233.04, 'successful_exits': 4, 'preferred_startup_age_min': 0, 'preferred_startup_age_max': 7, 'preferred_business_model': ['Subscription', 'B2C', 'B2B'], 'preferred_business_stage': ['Scaling'], 'preferred_engagement_length': ['Long-term (More than 3 years)'], 'preferred_engagement_model': ['Mentorship', 'Advisory', 'Hands-on'], 'preferred_team_size_min': 2, 'preferred_team_size_max': 29}, {'investment_company': 'Investment Company 8', 'investor_type': ['VC Fund'], 'investor_description': 'Investing in early-stage startups in the E-sports sector.', 'investor_expertise': ['Legal', 'Operations', 'Strategy'], 'preferred_attributes': ['Patented Technology'], 'preferred_business_priority': ['Product Development'], 'preferred_founder_gender': ['Male', 'Female'], 'preferred_investment_round': ['Preseed'], 'preferred_industry': ['Immersive Entertainment and Technology', 'Education', 'Foodtech'], 'preferred_country': ['USA', 'Kenya'], 'min_investment': 271795.43, 'max_investment': 1820563.19, 'past_investments': 7718411.98, 'successful_exits': 8, 'preferred_startup_age_min': 2, 'preferred_startup_age_max': 7, 'preferred_business_model': ['Marketplace', 'B2B', 'E-commerce'], 'preferred_business_stage': ['MVP'], 'preferred_engagement_length': ['Short-term (Less than 1 year)'], 'preferred_engagement_model': ['Hands-on', 'Silent', 'Advisory'], 'preferred_team_size_min': 2, 'preferred_team_size_max': 29}, {'investment_company': 'Investment Company 9', 'investor_type': ['Family Office', 'Angel Investor'], 'investor_description': 'Investing in early-stage startups in the Insuretech sector.', 'investor_expertise': ['Tech', 'Finance', 'Marketing'], 'preferred_attributes': ['Large Market Size', 'Positive Unit Economics'], 'preferred_business_priority': ['Geographic Expansion', 'Product Development', 'Marketing Spend'], 'preferred_founder_gender': ['Male', 'Female'], 'preferred_investment_round': ['Series C'], 'preferred_industry': ['Transportation', 'Agritech', 'Healthtech'], 'preferred_country': ['Nigeria', 'Ghana'], 'min_investment': 168168.16, 'max_investment': 1461525.01, 'past_investments': 7896694.71, 'successful_exits': 9, 'preferred_startup_age_min': 5, 'preferred_startup_age_max': 5, 'preferred_business_model': ['B2B'], 'preferred_business_stage': ['Post-Revenue', 'MVP', 'Idea'], 'preferred_engagement_length': ['Long-term (More than 3 years)'], 'preferred_engagement_model': ['Hands-on'], 'preferred_team_size_min': 3, 'preferred_team_size_max': 18}, {'investment_company': 'Investment Company 10', 'investor_type': ['Crowdfunding'], 'investor_description': 'Investing in early-stage startups in the Biotech sector.', 'investor_expertise': ['Sales'], 'preferred_attributes': ['Patented Technology', 'Scalable Model'], 'preferred_business_priority': ['Marketing Spend', 'Customer Acquisition'], 'preferred_founder_gender': ['Female', 'Male'], 'preferred_investment_round': ['Series B'], 'preferred_industry': ['E-commerce', 'Healthtech'], 'preferred_country': ['Nigeria', 'USA'], 'min_investment': 122589.18, 'max_investment': 1532555.75, 'past_investments': 4550132.51, 'successful_exits': 2, 'preferred_startup_age_min': 1, 'preferred_startup_age_max': 9, 'preferred_business_model': ['Affiliate', 'B2B'], 'preferred_business_stage': ['Post-Revenue', 'Scaling', 'Prototype'], 'preferred_engagement_length': ['Long-term (More than 3 years)'], 'preferred_engagement_model': ['Strategic Partnership', 'Hands-on'], 'preferred_team_size_min': 9, 'preferred_team_size_max': 35}]\n"
     ]
    }
   ],
   "source": [
    "import random\n",
    "\n",
    "# Define constants\n",
    "STARTUP_STAGES = [\"Idea\", \"Prototype\", \"MVP\", \"Product-Market Fit\", \"Growth\", \"Scaling\", \"Mature\"]\n",
    "INDUSTRIES = [\"Insuretech\", \"Fintech\", \"Transportation\", \"Immersive Entertainment and Technology\", \"Edutainment\", \"Healthtech\", \"Agritech\", \"Real Estate\", \"E-commerce\", \"Education\", \"GreenTech/Environment\", \"AI & ML\", \"E-sports\", \"Biotech\", \"Foodtech\"]\n",
    "COUNTRIES = [\"Nigeria\", \"Ghana\", \"Kenya\", \"South Africa\", \"USA\", \"UK\"]\n",
    "BUSINESS_PRIORITIES = [\"Customer Acquisition\", \"Prototype Development\", \"Marketing Spend\", \"Product Development\", \"Geographic Expansion\", \"Technology Enhancement\", \"Hiring Talent\"]\n",
    "FOUNDER_POSITIONS = [\"CEO\", \"COO\", \"CDO\", \"CIO\", \"CMO\", \"CFO\", \"CTO\", \"CSO (Chief Strategy Officer)\", \"Chief Product Officer\", \"Chief Design Officer\"]\n",
    "GENDERS = [\"Male\", \"Female\"]\n",
    "KEY_TEAM_EXPERTISE = [\"Tech\", \"Finance\", \"Marketing\", \"Strategy\", \"Legal\", \"Operations\", \"Sales\", \"HR\", \"Product Management\", \"R&D\"]\n",
    "BUSINESS_MODELS = [\"B2B\", \"B2C\", \"SaaS\", \"Marketplace\", \"Subscription\", \"E-commerce\", \"B2G (Business to Government)\", \"Direct to Consumer\", \"Affiliate\"]\n",
    "PRODUCT_STAGES = [\"Idea\", \"Prototype\", \"MVP\", \"Scaling\", \"Profitable\", \"Post-Revenue\"]\n",
    "INVESTOR_EXPERTISE = [\"Tech\", \"Finance\", \"Marketing\", \"Strategy\", \"Legal\", \"Operations\", \"Sales\", \"HR\", \"Product Management\", \"R&D\"]\n",
    "ENGAGEMENT_LENGTHS = [\"Short-term (Less than 1 year)\", \"Medium-term (1-3 years)\", \"Long-term (More than 3 years)\"]\n",
    "ENGAGEMENT_MODELS = [\"Hands-on\", \"Advisory\", \"Silent\", \"Mentorship\", \"Strategic Partnership\"]\n",
    "REVENUE_MODELS = [\"B2B\", \"B2C\", \"SaaS\", \"Marketplace\", \"Subscription\", \"E-commerce\", \"B2G (Business to Government)\", \"Direct to Consumer\", \"Affiliate\"]\n",
    "INTELLECTUAL_PROPERTY = [\"Patents\", \"Trademarks\", \"Copyrights\", \"Trade Secrets\", \"Design Rights\", \"Licensing Agreements\"]\n",
    "INVESTOR_TYPES = [\"Angel Investor\", \"VC Fund\", \"Family Office\", \"Growth / PE Fund\", \"Corporate Venture\", \"Syndicate\", \"Government Fund\", \"Crowdfunding\"]\n",
    "PREFERRED_ATTRIBUTES = [\"Prototype\", \"Initial Customers\", \"Revenue Growth\", \"Great Team\", \"Patented Technology\", \"Scalable Model\", \"Recurring Revenue\", \"Positive Unit Economics\", \"Large Market Size\", \"Brand Recognition\"]\n",
    "BUSINESS_PRIORITIES = [\"Customer Acquisition\", \"Prototype Development\", \"Marketing Spend\", \"Product Development\", \"Geographic Expansion\", \"Technology Enhancement\", \"Hiring Talent\"]\n",
    "INVESTMENT_ROUNDS = [\"Preseed\", \"Seed\", \"Series A\", \"Series B\", \"Series C\", \"Bridge Round\", \"Mezzanine\"]\n",
    "\n",
    "# Helper function to generate random selections from a list\n",
    "def random_select(options_list, max_selections=3):\n",
    "    selections = random.sample(options_list, k=random.randint(1, max_selections))\n",
    "    return selections\n",
    "\n",
    "# Generate 20 dummy investor data entries\n",
    "dummy_investor_data = []\n",
    "for i in range(10):\n",
    "    dummy_investor_data.append(\n",
    "        {\n",
    "            'investment_company': f'Investment Company {i+1}',\n",
    "            'investor_type': random_select(INVESTOR_TYPES),\n",
    "            'investor_description': f'Investing in early-stage startups in the {random.choice(INDUSTRIES)} sector.',\n",
    "            'investor_expertise': random_select(INVESTOR_EXPERTISE),\n",
    "            'preferred_attributes': random_select(PREFERRED_ATTRIBUTES),\n",
    "            'preferred_business_priority': random_select(BUSINESS_PRIORITIES),\n",
    "            'preferred_founder_gender': random_select(GENDERS, max_selections=2),\n",
    "            'preferred_investment_round': random_select(INVESTMENT_ROUNDS),\n",
    "            'preferred_industry': random_select(INDUSTRIES),\n",
    "            'preferred_country': random_select(COUNTRIES),\n",
    "            'min_investment': round(random.uniform(10_000, 500_000), 2),\n",
    "            'max_investment': round(random.uniform(500_000, 2_000_000), 2),\n",
    "            'past_investments': round(random.uniform(1_000_000, 10_000_000), 2),\n",
    "            'successful_exits': random.randint(0, 10),\n",
    "            'preferred_startup_age_min': random.randint(0, 5),\n",
    "            'preferred_startup_age_max': random.randint(5, 10),\n",
    "            'preferred_business_model': random_select(BUSINESS_MODELS),\n",
    "            'preferred_business_stage': random_select(PRODUCT_STAGES),\n",
    "            'preferred_engagement_length': random_select(ENGAGEMENT_LENGTHS, max_selections=1),\n",
    "            'preferred_engagement_model': random_select(ENGAGEMENT_MODELS),\n",
    "            'preferred_team_size_min': random.randint(1, 10),\n",
    "            'preferred_team_size_max': random.randint(10, 50),\n",
    "        }\n",
    "    )\n",
    "\n",
    "print(dummy_investor_data)\n"
   ]
  },
  {
   "cell_type": "code",
   "execution_count": 12,
   "metadata": {},
   "outputs": [
    {
     "name": "stdout",
     "output_type": "stream",
     "text": [
      "{'investor_expertise': 50.0, 'preferred_attributes': 50.0, 'preferred_business_priority': 100.0, 'preferred_founder_gender': 100.0, 'preferred_investment_round': 100.0, 'preferred_industry': 50.0, 'preferred_country': 100.0, 'preferred_business_model': 50.0, 'preferred_business_stage': 100.0, 'preferred_engagement_length': 100.0, 'preferred_engagement_model': 0, 'investment_needed': 0, 'startup_age': 100, 'team_size': 100}\n"
     ]
    }
   ],
   "source": [
    "\n",
    "# Example usage:\n",
    "investor_sample_data =     {\n",
    "        'investment_company': 'Alpha Investments LLC',\n",
    "        'investor_type': ['VC Fund', 'Corporate Venture'],\n",
    "        'investor_description': 'Investing in early-stage fintech and healthtech startups.',\n",
    "        'investor_expertise': ['Finance', 'Strategy', 'dfdfd'],\n",
    "        'preferred_attributes': ['Great Team', 'Recurring Revenue', 'Positive Unit Economics'],\n",
    "        'preferred_business_priority': ['Customer Acquisition', 'Product Development'],\n",
    "        'preferred_founder_gender': ['Female', 'Male'],\n",
    "        'preferred_investment_round': ['Seed', 'Series A'],\n",
    "        'preferred_industry': ['Fintech', 'Healthtech'],\n",
    "        'preferred_country': ['USA', 'UK'],\n",
    "        'min_investment': 50000.0,\n",
    "        'max_investment': 300000.0,\n",
    "        'past_investments': 1500000.0,\n",
    "        'successful_exits': 8,\n",
    "        'preferred_startup_age_min': 2,\n",
    "        'preferred_startup_age_max': 5,\n",
    "        'preferred_business_model': ['Subscription', 'SaaS'],\n",
    "        'preferred_business_stage': ['MVP', 'Scaling'],\n",
    "        'preferred_engagement_length': ['Medium-term (1-3 years)'],\n",
    "        'preferred_engagement_model': ['Advisory', 'Strategic Partnership'],\n",
    "        'preferred_team_size_min': 5,\n",
    "        'preferred_team_size_max': 20,\n",
    "    }\n",
    "\n",
    "startup_sample_data =     {\n",
    "        'startup_company': 'TechFlow Inc.',\n",
    "        'startup_website': 'https://techflow.com',\n",
    "        'startup_stage': 'MVP',\n",
    "        'startup_industries': ['Fintech', 'Edutainment'],\n",
    "        'startup_countries': 'USA',\n",
    "        'startup_age': 3,\n",
    "        'mission': 'Empowering financial literacy through interactive educational platforms.',\n",
    "        'long_term_goals': 'Become the leading provider of financial education in the US.',\n",
    "        'current_capital': 15000.0,\n",
    "        'current_investment': 20000.0,\n",
    "        'investment_needed': 30000.0,\n",
    "        'business_priorities': ['Customer Acquisition', 'Product Development'],\n",
    "        'founder_name': 'Emily Smith',\n",
    "        'founder_positions': ['CEO', 'CFO'],\n",
    "        'founder_gender': 'Female',\n",
    "        'team_size': 15,\n",
    "        'key_team_expertise': ['Finance', 'Marketing', 'Strategy'],\n",
    "        'product_description': 'An interactive platform for financial education.',\n",
    "        'business_models': ['Subscription', 'B2C'],\n",
    "        'product_stages': 'Prototype',\n",
    "        'monthly_users': 5000,\n",
    "        'investor_attributes': ['Revenue Growth', 'Great Team'],\n",
    "        'investment_round': 'Seed',\n",
    "        'investor_expertise': ['Finance', 'Marketing'],\n",
    "        'engagement_lengths': ['Medium-term (1-3 years)'],\n",
    "        'engagement_models': ['Mentorship'],\n",
    "        'revenue_models': ['Subscription'],\n",
    "        'revenue': 5000.0,\n",
    "        'profit_margin': 0.2,\n",
    "        'churn_rate': 5.0,\n",
    "        'intellectual_properties': ['Trademarks'],\n",
    "        'competitive_advantage': 'Unique interactive content.',\n",
    "        'current_challenges': 'User acquisition and funding.'\n",
    "    }\n"
   ]
  },
  {
   "cell_type": "code",
   "execution_count": 31,
   "metadata": {},
   "outputs": [],
   "source": []
  },
  {
   "cell_type": "code",
   "execution_count": 49,
   "metadata": {},
   "outputs": [],
   "source": [
    "weights = {\n",
    "'startup':{'investor_expertise': 0.025, 'investor_attributes': 0.0125, 'business_priorities': 0.1, 'founder_gender': 0.025, 'investment_round': 0.1, 'startup_industries': 0.1, 'startup_countries': 0.0125, 'business_models': 0.25, 'startup_stage': 0.1, 'engagement_lengths': 0.025, 'engagement_models': 0.05, 'investment_needed': 0.2, 'startup_age': 0.02, 'team_size': 0.02},\n",
    "'investor' : {'investor_expertise': 0.025, 'preferred_attributes': 0.0125, 'preferred_business_priority': 0.1, 'preferred_founder_gender': 0.025, 'preferred_investment_round': 0.1, 'preferred_industry': 0.1, 'preferred_country': 0.0125, 'preferred_business_model': 0.25, 'preferred_business_stage': 0.1, 'preferred_engagement_length': 0.025, 'preferred_engagement_model': 0.05, 'investment_needed': 0.2, 'startup_age': 0.02, 'team_size': 0.02}\n",
    "}\n",
    "\n",
    "def calculate_match_score(investor_data, startup_data, reference, tolerance=0.1):\n",
    "    metric_scores = {}  # Dictionary to store the scores of each metric\n",
    "\n",
    "    # Common Metrics\n",
    "    common_metrics = [\n",
    "        ('investor_expertise', 'investor_expertise'),\n",
    "        ('preferred_attributes', 'investor_attributes'),\n",
    "        ('preferred_business_priority', 'business_priorities'),\n",
    "        ('preferred_founder_gender', 'founder_gender'),\n",
    "        ('preferred_investment_round', 'investment_round'),\n",
    "        ('preferred_industry', 'startup_industries'),\n",
    "        ('preferred_country', 'startup_countries'),\n",
    "        ('preferred_business_model', 'business_models'),\n",
    "        ('preferred_business_stage', 'startup_stage'),\n",
    "        ('preferred_engagement_length', 'engagement_lengths'),\n",
    "        ('preferred_engagement_model', 'engagement_models'),\n",
    "    ]\n",
    "\n",
    "    for investor_field, startup_field in common_metrics:\n",
    "        reference_field = investor_field if reference.lower() == 'investor' else startup_field\n",
    "        investor_value = investor_data.get(investor_field, [])\n",
    "        startup_value = startup_data.get(startup_field, [])\n",
    "\n",
    "        # Convert single values to list for consistency\n",
    "        if not isinstance(investor_value, list):\n",
    "            investor_value = [investor_value]\n",
    "        if not isinstance(startup_value, list):\n",
    "            startup_value = [startup_value]\n",
    "        \n",
    "        # Score increment for each matching item\n",
    "        matching_items = set(investor_value) & set(startup_value)\n",
    "        metric_score = (len(matching_items) / max(len(startup_value), len(startup_value))) * 100 if matching_items else 0\n",
    "        metric_scores[reference_field] = metric_score  # Store the score of this metric in the dictionary\n",
    "\n",
    "    # Numeric Metrics\n",
    "    numeric_metrics = [\n",
    "        ('min_investment', 'investment_needed', 'max_investment'),\n",
    "        ('preferred_startup_age_min', 'startup_age', 'preferred_startup_age_max'),\n",
    "        ('preferred_team_size_min', 'team_size', 'preferred_team_size_max')\n",
    "    ]\n",
    "\n",
    "    for min_field, value_field, max_field in numeric_metrics:\n",
    "        min_value = investor_data.get(min_field, 0)\n",
    "        value = startup_data.get(value_field, 0)\n",
    "        max_value = investor_data.get(max_field, 0)\n",
    "\n",
    "        metric_score = 100 if (min_value * (1 - tolerance)) <= value <= (max_value * (1 + tolerance)) else 0\n",
    "        metric_scores[value_field] = metric_score  # Store the score of this metric in the dictionary\n",
    "\n",
    "    return metric_scores  # Return the dictionary of metric scores\n",
    "\n",
    "\n",
    "def calculate_weighted_average_score(scores, weights):\n",
    "    weighted_sum = 0\n",
    "    total_weight = 0\n",
    "\n",
    "    for metric, score in scores.items():\n",
    "        weight = weights.get(metric, 0)  # Get the weight of the metric, or 0 if not defined\n",
    "        weighted_sum += score * weight\n",
    "        total_weight += weight\n",
    "\n",
    "    weighted_average = weighted_sum / total_weight if total_weight > 0 else 0\n",
    "    return weighted_average\n",
    "\n",
    "\n",
    "def generate_scores(investor_sample_data, startup_sample_data, reference, weights=weights, tolerance=0.1):\n",
    "    scores = calculate_match_score(investor_sample_data, startup_sample_data, reference)\n",
    "    weighted = calculate_weighted_average_score(scores,weights[reference.lower()])\n",
    "    return scores,round(weighted,2)"
   ]
  },
  {
   "cell_type": "code",
   "execution_count": 50,
   "metadata": {},
   "outputs": [
    {
     "data": {
      "text/plain": [
       "({'investor_expertise': 50.0,\n",
       "  'investor_attributes': 50.0,\n",
       "  'business_priorities': 100.0,\n",
       "  'founder_gender': 100.0,\n",
       "  'investment_round': 100.0,\n",
       "  'startup_industries': 50.0,\n",
       "  'startup_countries': 100.0,\n",
       "  'business_models': 50.0,\n",
       "  'startup_stage': 100.0,\n",
       "  'engagement_lengths': 100.0,\n",
       "  'engagement_models': 0,\n",
       "  'investment_needed': 0,\n",
       "  'startup_age': 100,\n",
       "  'team_size': 100},\n",
       " 57.33)"
      ]
     },
     "execution_count": 50,
     "metadata": {},
     "output_type": "execute_result"
    }
   ],
   "source": [
    "generate_scores(investor_sample_data, startup_sample_data, 'startup')"
   ]
  },
  {
   "cell_type": "code",
   "execution_count": null,
   "metadata": {},
   "outputs": [],
   "source": [
    "inv = get_investors()\n",
    "stu = get_startup_profile()\n",
    "scs = {}\n",
    "scs_w = {}\n",
    "for x in inv:\n",
    "    scs[x['investment_company']],scs_w[x['investment_company']] = generate_scores(inv, stu, 'startup')\n",
    "\n",
    "inv = get_investor_profile()\n",
    "stu = get_startups()\n",
    "scs = {}\n",
    "scs_w = {}\n",
    "for x in stu:\n",
    "    scs[x['startup_company']],scs_w[x['startup_company']] = generate_scores(inv, stu, 'investor') \n",
    "\n"
   ]
  },
  {
   "cell_type": "code",
   "execution_count": 7,
   "metadata": {},
   "outputs": [
    {
     "data": {
      "application/vnd.plotly.v1+json": {
       "config": {
        "plotlyServerURL": "https://plot.ly"
       },
       "data": [
        {
         "domain": {
          "x": [
           0,
           1
          ],
          "y": [
           0,
           1
          ]
         },
         "gauge": {
          "axis": {
           "range": [
            null,
            500
           ],
           "visible": true
          },
          "threshold": {
           "line": {
            "color": "#377eb8",
            "width": 4
           },
           "thickness": 0.75,
           "value": 250
          }
         },
         "mode": "gauge+number",
         "title": {
          "text": "Speed"
         },
         "type": "indicator",
         "value": 270
        }
       ],
       "layout": {
        "template": {
         "data": {
          "bar": [
           {
            "error_x": {
             "color": "#2a3f5f"
            },
            "error_y": {
             "color": "#2a3f5f"
            },
            "marker": {
             "line": {
              "color": "#E5ECF6",
              "width": 0.5
             },
             "pattern": {
              "fillmode": "overlay",
              "size": 10,
              "solidity": 0.2
             }
            },
            "type": "bar"
           }
          ],
          "barpolar": [
           {
            "marker": {
             "line": {
              "color": "#E5ECF6",
              "width": 0.5
             },
             "pattern": {
              "fillmode": "overlay",
              "size": 10,
              "solidity": 0.2
             }
            },
            "type": "barpolar"
           }
          ],
          "carpet": [
           {
            "aaxis": {
             "endlinecolor": "#2a3f5f",
             "gridcolor": "white",
             "linecolor": "white",
             "minorgridcolor": "white",
             "startlinecolor": "#2a3f5f"
            },
            "baxis": {
             "endlinecolor": "#2a3f5f",
             "gridcolor": "white",
             "linecolor": "white",
             "minorgridcolor": "white",
             "startlinecolor": "#2a3f5f"
            },
            "type": "carpet"
           }
          ],
          "choropleth": [
           {
            "colorbar": {
             "outlinewidth": 0,
             "ticks": ""
            },
            "type": "choropleth"
           }
          ],
          "contour": [
           {
            "colorbar": {
             "outlinewidth": 0,
             "ticks": ""
            },
            "colorscale": [
             [
              0,
              "#0d0887"
             ],
             [
              0.1111111111111111,
              "#46039f"
             ],
             [
              0.2222222222222222,
              "#7201a8"
             ],
             [
              0.3333333333333333,
              "#9c179e"
             ],
             [
              0.4444444444444444,
              "#bd3786"
             ],
             [
              0.5555555555555556,
              "#d8576b"
             ],
             [
              0.6666666666666666,
              "#ed7953"
             ],
             [
              0.7777777777777778,
              "#fb9f3a"
             ],
             [
              0.8888888888888888,
              "#fdca26"
             ],
             [
              1,
              "#f0f921"
             ]
            ],
            "type": "contour"
           }
          ],
          "contourcarpet": [
           {
            "colorbar": {
             "outlinewidth": 0,
             "ticks": ""
            },
            "type": "contourcarpet"
           }
          ],
          "heatmap": [
           {
            "colorbar": {
             "outlinewidth": 0,
             "ticks": ""
            },
            "colorscale": [
             [
              0,
              "#0d0887"
             ],
             [
              0.1111111111111111,
              "#46039f"
             ],
             [
              0.2222222222222222,
              "#7201a8"
             ],
             [
              0.3333333333333333,
              "#9c179e"
             ],
             [
              0.4444444444444444,
              "#bd3786"
             ],
             [
              0.5555555555555556,
              "#d8576b"
             ],
             [
              0.6666666666666666,
              "#ed7953"
             ],
             [
              0.7777777777777778,
              "#fb9f3a"
             ],
             [
              0.8888888888888888,
              "#fdca26"
             ],
             [
              1,
              "#f0f921"
             ]
            ],
            "type": "heatmap"
           }
          ],
          "heatmapgl": [
           {
            "colorbar": {
             "outlinewidth": 0,
             "ticks": ""
            },
            "colorscale": [
             [
              0,
              "#0d0887"
             ],
             [
              0.1111111111111111,
              "#46039f"
             ],
             [
              0.2222222222222222,
              "#7201a8"
             ],
             [
              0.3333333333333333,
              "#9c179e"
             ],
             [
              0.4444444444444444,
              "#bd3786"
             ],
             [
              0.5555555555555556,
              "#d8576b"
             ],
             [
              0.6666666666666666,
              "#ed7953"
             ],
             [
              0.7777777777777778,
              "#fb9f3a"
             ],
             [
              0.8888888888888888,
              "#fdca26"
             ],
             [
              1,
              "#f0f921"
             ]
            ],
            "type": "heatmapgl"
           }
          ],
          "histogram": [
           {
            "marker": {
             "pattern": {
              "fillmode": "overlay",
              "size": 10,
              "solidity": 0.2
             }
            },
            "type": "histogram"
           }
          ],
          "histogram2d": [
           {
            "colorbar": {
             "outlinewidth": 0,
             "ticks": ""
            },
            "colorscale": [
             [
              0,
              "#0d0887"
             ],
             [
              0.1111111111111111,
              "#46039f"
             ],
             [
              0.2222222222222222,
              "#7201a8"
             ],
             [
              0.3333333333333333,
              "#9c179e"
             ],
             [
              0.4444444444444444,
              "#bd3786"
             ],
             [
              0.5555555555555556,
              "#d8576b"
             ],
             [
              0.6666666666666666,
              "#ed7953"
             ],
             [
              0.7777777777777778,
              "#fb9f3a"
             ],
             [
              0.8888888888888888,
              "#fdca26"
             ],
             [
              1,
              "#f0f921"
             ]
            ],
            "type": "histogram2d"
           }
          ],
          "histogram2dcontour": [
           {
            "colorbar": {
             "outlinewidth": 0,
             "ticks": ""
            },
            "colorscale": [
             [
              0,
              "#0d0887"
             ],
             [
              0.1111111111111111,
              "#46039f"
             ],
             [
              0.2222222222222222,
              "#7201a8"
             ],
             [
              0.3333333333333333,
              "#9c179e"
             ],
             [
              0.4444444444444444,
              "#bd3786"
             ],
             [
              0.5555555555555556,
              "#d8576b"
             ],
             [
              0.6666666666666666,
              "#ed7953"
             ],
             [
              0.7777777777777778,
              "#fb9f3a"
             ],
             [
              0.8888888888888888,
              "#fdca26"
             ],
             [
              1,
              "#f0f921"
             ]
            ],
            "type": "histogram2dcontour"
           }
          ],
          "mesh3d": [
           {
            "colorbar": {
             "outlinewidth": 0,
             "ticks": ""
            },
            "type": "mesh3d"
           }
          ],
          "parcoords": [
           {
            "line": {
             "colorbar": {
              "outlinewidth": 0,
              "ticks": ""
             }
            },
            "type": "parcoords"
           }
          ],
          "pie": [
           {
            "automargin": true,
            "type": "pie"
           }
          ],
          "scatter": [
           {
            "fillpattern": {
             "fillmode": "overlay",
             "size": 10,
             "solidity": 0.2
            },
            "type": "scatter"
           }
          ],
          "scatter3d": [
           {
            "line": {
             "colorbar": {
              "outlinewidth": 0,
              "ticks": ""
             }
            },
            "marker": {
             "colorbar": {
              "outlinewidth": 0,
              "ticks": ""
             }
            },
            "type": "scatter3d"
           }
          ],
          "scattercarpet": [
           {
            "marker": {
             "colorbar": {
              "outlinewidth": 0,
              "ticks": ""
             }
            },
            "type": "scattercarpet"
           }
          ],
          "scattergeo": [
           {
            "marker": {
             "colorbar": {
              "outlinewidth": 0,
              "ticks": ""
             }
            },
            "type": "scattergeo"
           }
          ],
          "scattergl": [
           {
            "marker": {
             "colorbar": {
              "outlinewidth": 0,
              "ticks": ""
             }
            },
            "type": "scattergl"
           }
          ],
          "scattermapbox": [
           {
            "marker": {
             "colorbar": {
              "outlinewidth": 0,
              "ticks": ""
             }
            },
            "type": "scattermapbox"
           }
          ],
          "scatterpolar": [
           {
            "marker": {
             "colorbar": {
              "outlinewidth": 0,
              "ticks": ""
             }
            },
            "type": "scatterpolar"
           }
          ],
          "scatterpolargl": [
           {
            "marker": {
             "colorbar": {
              "outlinewidth": 0,
              "ticks": ""
             }
            },
            "type": "scatterpolargl"
           }
          ],
          "scatterternary": [
           {
            "marker": {
             "colorbar": {
              "outlinewidth": 0,
              "ticks": ""
             }
            },
            "type": "scatterternary"
           }
          ],
          "surface": [
           {
            "colorbar": {
             "outlinewidth": 0,
             "ticks": ""
            },
            "colorscale": [
             [
              0,
              "#0d0887"
             ],
             [
              0.1111111111111111,
              "#46039f"
             ],
             [
              0.2222222222222222,
              "#7201a8"
             ],
             [
              0.3333333333333333,
              "#9c179e"
             ],
             [
              0.4444444444444444,
              "#bd3786"
             ],
             [
              0.5555555555555556,
              "#d8576b"
             ],
             [
              0.6666666666666666,
              "#ed7953"
             ],
             [
              0.7777777777777778,
              "#fb9f3a"
             ],
             [
              0.8888888888888888,
              "#fdca26"
             ],
             [
              1,
              "#f0f921"
             ]
            ],
            "type": "surface"
           }
          ],
          "table": [
           {
            "cells": {
             "fill": {
              "color": "#EBF0F8"
             },
             "line": {
              "color": "white"
             }
            },
            "header": {
             "fill": {
              "color": "#C8D4E3"
             },
             "line": {
              "color": "white"
             }
            },
            "type": "table"
           }
          ]
         },
         "layout": {
          "annotationdefaults": {
           "arrowcolor": "#2a3f5f",
           "arrowhead": 0,
           "arrowwidth": 1
          },
          "autotypenumbers": "strict",
          "coloraxis": {
           "colorbar": {
            "outlinewidth": 0,
            "ticks": ""
           }
          },
          "colorscale": {
           "diverging": [
            [
             0,
             "#8e0152"
            ],
            [
             0.1,
             "#c51b7d"
            ],
            [
             0.2,
             "#de77ae"
            ],
            [
             0.3,
             "#f1b6da"
            ],
            [
             0.4,
             "#fde0ef"
            ],
            [
             0.5,
             "#f7f7f7"
            ],
            [
             0.6,
             "#e6f5d0"
            ],
            [
             0.7,
             "#b8e186"
            ],
            [
             0.8,
             "#7fbc41"
            ],
            [
             0.9,
             "#4d9221"
            ],
            [
             1,
             "#276419"
            ]
           ],
           "sequential": [
            [
             0,
             "#0d0887"
            ],
            [
             0.1111111111111111,
             "#46039f"
            ],
            [
             0.2222222222222222,
             "#7201a8"
            ],
            [
             0.3333333333333333,
             "#9c179e"
            ],
            [
             0.4444444444444444,
             "#bd3786"
            ],
            [
             0.5555555555555556,
             "#d8576b"
            ],
            [
             0.6666666666666666,
             "#ed7953"
            ],
            [
             0.7777777777777778,
             "#fb9f3a"
            ],
            [
             0.8888888888888888,
             "#fdca26"
            ],
            [
             1,
             "#f0f921"
            ]
           ],
           "sequentialminus": [
            [
             0,
             "#0d0887"
            ],
            [
             0.1111111111111111,
             "#46039f"
            ],
            [
             0.2222222222222222,
             "#7201a8"
            ],
            [
             0.3333333333333333,
             "#9c179e"
            ],
            [
             0.4444444444444444,
             "#bd3786"
            ],
            [
             0.5555555555555556,
             "#d8576b"
            ],
            [
             0.6666666666666666,
             "#ed7953"
            ],
            [
             0.7777777777777778,
             "#fb9f3a"
            ],
            [
             0.8888888888888888,
             "#fdca26"
            ],
            [
             1,
             "#f0f921"
            ]
           ]
          },
          "colorway": [
           "#636efa",
           "#EF553B",
           "#00cc96",
           "#ab63fa",
           "#FFA15A",
           "#19d3f3",
           "#FF6692",
           "#B6E880",
           "#FF97FF",
           "#FECB52"
          ],
          "font": {
           "color": "#2a3f5f"
          },
          "geo": {
           "bgcolor": "white",
           "lakecolor": "white",
           "landcolor": "#E5ECF6",
           "showlakes": true,
           "showland": true,
           "subunitcolor": "white"
          },
          "hoverlabel": {
           "align": "left"
          },
          "hovermode": "closest",
          "mapbox": {
           "style": "light"
          },
          "paper_bgcolor": "white",
          "plot_bgcolor": "#E5ECF6",
          "polar": {
           "angularaxis": {
            "gridcolor": "white",
            "linecolor": "white",
            "ticks": ""
           },
           "bgcolor": "#E5ECF6",
           "radialaxis": {
            "gridcolor": "white",
            "linecolor": "white",
            "ticks": ""
           }
          },
          "scene": {
           "xaxis": {
            "backgroundcolor": "#E5ECF6",
            "gridcolor": "white",
            "gridwidth": 2,
            "linecolor": "white",
            "showbackground": true,
            "ticks": "",
            "zerolinecolor": "white"
           },
           "yaxis": {
            "backgroundcolor": "#E5ECF6",
            "gridcolor": "white",
            "gridwidth": 2,
            "linecolor": "white",
            "showbackground": true,
            "ticks": "",
            "zerolinecolor": "white"
           },
           "zaxis": {
            "backgroundcolor": "#E5ECF6",
            "gridcolor": "white",
            "gridwidth": 2,
            "linecolor": "white",
            "showbackground": true,
            "ticks": "",
            "zerolinecolor": "white"
           }
          },
          "shapedefaults": {
           "line": {
            "color": "#2a3f5f"
           }
          },
          "ternary": {
           "aaxis": {
            "gridcolor": "white",
            "linecolor": "white",
            "ticks": ""
           },
           "baxis": {
            "gridcolor": "white",
            "linecolor": "white",
            "ticks": ""
           },
           "bgcolor": "#E5ECF6",
           "caxis": {
            "gridcolor": "white",
            "linecolor": "white",
            "ticks": ""
           }
          },
          "title": {
           "x": 0.05
          },
          "xaxis": {
           "automargin": true,
           "gridcolor": "white",
           "linecolor": "white",
           "ticks": "",
           "title": {
            "standoff": 15
           },
           "zerolinecolor": "white",
           "zerolinewidth": 2
          },
          "yaxis": {
           "automargin": true,
           "gridcolor": "white",
           "linecolor": "white",
           "ticks": "",
           "title": {
            "standoff": 15
           },
           "zerolinecolor": "white",
           "zerolinewidth": 2
          }
         }
        }
       }
      }
     },
     "metadata": {},
     "output_type": "display_data"
    }
   ],
   "source": [
    "import plotly.graph_objects as go\n",
    "\n",
    "fig = go.Figure(go.Indicator(\n",
    "    mode = \"gauge+number\",\n",
    "    value = 270,\n",
    "    gauge = {\n",
    "        'axis': {'visible': True, 'range': [None, 500] ,'color': \"red\"},\n",
    "        'threshold': {\n",
    "            'line': {'color': \"red\", 'width': 4},\n",
    "            'thickness': 0.75,\n",
    "            'value': 250\n",
    "        }\n",
    "    },\n",
    "    domain = {'x': [0, 1], 'y': [0, 1]},\n",
    "    title = {'text': \"Speed\"}))\n",
    "\n",
    "fig.show()"
   ]
  }
 ],
 "metadata": {
  "interpreter": {
   "hash": "9d5af124f8733997736ab587226df1cf217b5dc20862e3d16e15e89eeadad705"
  },
  "kernelspec": {
   "display_name": "Python 3.9.13 ('env': venv)",
   "language": "python",
   "name": "python3"
  },
  "language_info": {
   "codemirror_mode": {
    "name": "ipython",
    "version": 3
   },
   "file_extension": ".py",
   "mimetype": "text/x-python",
   "name": "python",
   "nbconvert_exporter": "python",
   "pygments_lexer": "ipython3",
   "version": "3.9.13"
  },
  "orig_nbformat": 4
 },
 "nbformat": 4,
 "nbformat_minor": 2
}
